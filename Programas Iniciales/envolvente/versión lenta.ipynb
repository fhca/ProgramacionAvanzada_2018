{
 "cells": [
  {
   "cell_type": "markdown",
   "metadata": {},
   "source": [
    "# Envolvente Convexa"
   ]
  },
  {
   "cell_type": "markdown",
   "metadata": {},
   "source": [
    "¿Cuál de estos dos conjuntos es convexo?\n",
    "\n",
    "![Conjuntos convexos y no convexos](convexos1.jpg)"
   ]
  },
  {
   "cell_type": "markdown",
   "metadata": {},
   "source": [
    "Una envolvente convexa de un conjunto (de puntos) es el mínimo convexo que contiene a ese conjunto. Se puede pensar en una \"liga\" que se \"suelta\" sobre el conjunto para contenerlo completamente. La envolvente de un conjunto de puntos o de un polígono es siempre un polígono convexo.\n",
    "\n",
    "![envolvente](convexos2.jpg)"
   ]
  },
  {
   "cell_type": "markdown",
   "metadata": {},
   "source": [
    "Pensemos que ya tenemos la envolvente del conjunto $P$ de puntos. Si tomamos dos puntos consecutivos de su borde y vemos la recta que determinan, todos los demás puntos deben estar *de un solo lado* de esa recta. Si recorremos los puntos de la envolvente, en sentido horario y tomamos siempre el rayo (o vector) que va de un punto al siguiente (de $p$ a $q$), podemos ver que todos los demás puntos de la envolvente estarán a su derecha.\n",
    "\n",
    "![rayo](convexos3.jpg)"
   ]
  },
  {
   "cell_type": "markdown",
   "metadata": {},
   "source": [
    "Preguntas:\n",
    "\n",
    "¿cómo programarías esto? o, mas desmenuzado...\n",
    " 1. ¿cómo guardas los puntos de $P$ para que los localices?\n",
    " 1. ¿cómo determinas si un punto está a la *derecha* de un rayo vector determinado por otros dos puntos?\n",
    " 1. ¿cómo verificas si dados dos puntos cualesquiera, son pareja válida o no?\n",
    " 1. ¿cómo reportas la lista de las parejas que si son válidas? Si es un polígono convexo, bastaría con enlistarlas en orden horario, por ejemplo.\n",
    " 1. ¿cómo ordenas estas ideas en un algoritmo?, ¿cuánto se tarda?, ¿cómo se puede mejorar?"
   ]
  },
  {
   "cell_type": "markdown",
   "metadata": {},
   "source": [
    "En esta primera versión, veremos como programar el siguiente algoritmo: (del van Kreveld):\n",
    "\n",
    "![alg1.1](convexos4.jpg)\n",
    "![alg1.2](convexos5.jpg)"
   ]
  },
  {
   "cell_type": "markdown",
   "metadata": {},
   "source": [
    "Nota: Observa que no se te pide que dibujes la envolvente, o el conjunto de puntos. Esa es otra actividad. De momento sólo se pide el encontrar los puntos de la envolvente convexa."
   ]
  },
  {
   "cell_type": "code",
   "execution_count": null,
   "metadata": {},
   "outputs": [],
   "source": []
  }
 ],
 "metadata": {
  "kernelspec": {
   "display_name": "Python 3",
   "language": "python",
   "name": "python3"
  },
  "language_info": {
   "codemirror_mode": {
    "name": "ipython",
    "version": 3
   },
   "file_extension": ".py",
   "mimetype": "text/x-python",
   "name": "python",
   "nbconvert_exporter": "python",
   "pygments_lexer": "ipython3",
   "version": "3.7.0"
  }
 },
 "nbformat": 4,
 "nbformat_minor": 2
}
